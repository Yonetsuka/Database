{
 "cells": [
  {
   "cell_type": "code",
   "execution_count": 2,
   "metadata": {},
   "outputs": [],
   "source": [
    "import pandas as pd"
   ]
  },
  {
   "cell_type": "code",
   "execution_count": 3,
   "metadata": {},
   "outputs": [],
   "source": [
    "df  = pd.DataFrame([['Masculino','Masculino','Feminino','Masculino','Feminino','Feminino'],['Enfermagem','Futebol','Medicina','Futebol','Futebol','Futebol']]).T\n",
    "df.columns = ['Sexo', 'Profissão']"
   ]
  },
  {
   "cell_type": "code",
   "execution_count": 4,
   "metadata": {},
   "outputs": [],
   "source": [
    "#1"
   ]
  },
  {
   "cell_type": "code",
   "execution_count": 5,
   "metadata": {},
   "outputs": [],
   "source": [
    "M = 0\n",
    "F = 0\n",
    "Total = 0\n",
    "for index,row in df.iterrows():\n",
    "    if  row['Sexo'] == 'Masculino':\n",
    "        M += 1\n",
    "    elif row['Sexo'] == 'Feminino':\n",
    "        F += 1\n",
    "Total += F + M"
   ]
  },
  {
   "cell_type": "code",
   "execution_count": null,
   "metadata": {},
   "outputs": [],
   "source": [
    "PM = M / Total\n",
    "PM *= 100\n",
    "print(f'A porcentagem de homem é: {round(PM,2)}%')"
   ]
  },
  {
   "cell_type": "code",
   "execution_count": null,
   "metadata": {},
   "outputs": [],
   "source": [
    "PF = F / Total\n",
    "PF *= 100\n",
    "print(f'A porcentagem de mulher é: {round(PF,2)}%')"
   ]
  },
  {
   "cell_type": "code",
   "execution_count": 8,
   "metadata": {},
   "outputs": [],
   "source": [
    "#2"
   ]
  },
  {
   "cell_type": "code",
   "execution_count": 9,
   "metadata": {},
   "outputs": [],
   "source": [
    "Enf = 0\n",
    "Fute = 0\n",
    "Medic = 0\n",
    "Tot = 0\n",
    "for index,row in df.iterrows():\n",
    "    if  row['Profissão'] == 'Enfermagem':\n",
    "        Enf +=1\n",
    "    elif row['Profissão'] == 'Futebol':\n",
    "        Fute += 1\n",
    "    elif row['Profissão'] == 'Medicina':\n",
    "        Medic += 1\n",
    "Tot += Enf + Fute + Medic"
   ]
  },
  {
   "cell_type": "code",
   "execution_count": null,
   "metadata": {},
   "outputs": [],
   "source": [
    "PE = Enf / Tot\n",
    "PE *= 100\n",
    "print(f'A porcentagem de enfermeiros é: {round(PE,2)}%')"
   ]
  },
  {
   "cell_type": "code",
   "execution_count": null,
   "metadata": {},
   "outputs": [],
   "source": [
    "PFU = Fute / Tot\n",
    "PFU *= 100\n",
    "print(f'A porcentagem de jogadores de futebol é: {round(PFU,2)}%')"
   ]
  },
  {
   "cell_type": "code",
   "execution_count": null,
   "metadata": {},
   "outputs": [],
   "source": [
    "PME = Medic / Tot\n",
    "PME *= 100\n",
    "print(f'A porcentagem de jogadores de médicos é: {round(PME,2)}%')"
   ]
  },
  {
   "cell_type": "code",
   "execution_count": 13,
   "metadata": {},
   "outputs": [],
   "source": [
    "#3"
   ]
  },
  {
   "cell_type": "code",
   "execution_count": 17,
   "metadata": {},
   "outputs": [],
   "source": [
    "MF = 0\n",
    "ME = 0\n",
    "MM = 0\n",
    "FF = 0\n",
    "FE = 0\n",
    "FM = 0\n",
    "for index,row in df.iterrows():\n",
    "    if row['Sexo'] == 'Masculino':\n",
    "        if row['Profissão'] == 'Futebol':\n",
    "            MF += 1\n",
    "        elif row['Profissão'] == 'Enfermagem':\n",
    "            ME += 1\n",
    "        elif row['Profissão'] == 'Medicina':\n",
    "            MM += 1\n",
    "    elif row['Sexo'] == 'Feminino':\n",
    "        if row['Profissão'] == 'Futebol':\n",
    "            FF += 1\n",
    "        elif row['Profissão'] == 'Enfermagem':\n",
    "            FE += 1\n",
    "        elif row['Profissão'] == 'Medicina':\n",
    "            FM += 1"
   ]
  },
  {
   "cell_type": "code",
   "execution_count": null,
   "metadata": {},
   "outputs": [],
   "source": [
    "TC = pd.DataFrame([['Futebol','Enfermagem','Médico'],[MF,ME,MM],[FF,FE,FM]]).T\n",
    "TC.columns=['Profissão','Homem','Mulher']\n",
    "TC"
   ]
  }
 ],
 "metadata": {
  "kernelspec": {
   "display_name": "Python 3",
   "language": "python",
   "name": "python3"
  },
  "language_info": {
   "codemirror_mode": {
    "name": "ipython",
    "version": 3
   },
   "file_extension": ".py",
   "mimetype": "text/x-python",
   "name": "python",
   "nbconvert_exporter": "python",
   "pygments_lexer": "ipython3",
   "version": "3.11.4"
  },
  "orig_nbformat": 4
 },
 "nbformat": 4,
 "nbformat_minor": 2
}
